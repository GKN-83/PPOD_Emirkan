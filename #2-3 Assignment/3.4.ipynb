{
 "cells": [
  {
   "cell_type": "markdown",
   "source": [
    "## Testing Data Utility - 50 marks\n",
    "For this task, we take a closer look at the four different data sets from 3.2 and 3.3: \n",
    "- k_anon: Dataset created in 3.2, which formed the base for achieving l-diversity and t-closeness later\n",
    "- l_diverse: Dataset created in 3.2\n",
    "- t-close: Dataset created in 3.2\n",
    "- cluster: Dataset created in 3.3\n",
    "\n",
    "Because we used our (in 3.2) created reduced_athletes as the dataset to create all the other datasets, reduced_athletes will be used as the comparison benchmark. "
   ],
   "metadata": {
    "collapsed": false
   },
   "id": "e2cf0e0062c3cdb6"
  },
  {
   "cell_type": "markdown",
   "source": [
    "## 1. The utility of the data\n",
    "\n",
    "In this task we try to answer the question of how well the data can still be used for its intended purposes compared to the original data. \n",
    "In our scenario, we evaluate our anonymized datasets via statistical analysis. Therefore, we design experiments that assess how well the anonymized data preserves the statistical properties of the original data.\n",
    "\n",
    "1. We will conduct a statistical comparison of the different data sets we created. \n",
    "   1. numerical attributes \n",
    "      - mean, median, mode, standard deviation\n",
    "   2. categorical attributes\n",
    "      - Frequency Table\n",
    "      - Jaccard for comparing datasets\n"
   ],
   "metadata": {
    "collapsed": false
   },
   "id": "ec8c073db7a2eb20"
  },
  {
   "cell_type": "markdown",
   "source": [
    "# Numerical Analysis\n",
    "### k_anonymized dataset"
   ],
   "metadata": {
    "collapsed": false
   },
   "id": "3119003319a7086d"
  },
  {
   "cell_type": "code",
   "outputs": [
    {
     "ename": "ModuleNotFoundError",
     "evalue": "No module named 'seaborn'",
     "output_type": "error",
     "traceback": [
      "\u001B[0;31m---------------------------------------------------------------------------\u001B[0m",
      "\u001B[0;31mModuleNotFoundError\u001B[0m                       Traceback (most recent call last)",
      "Cell \u001B[0;32mIn[53], line 2\u001B[0m\n\u001B[1;32m      1\u001B[0m \u001B[38;5;28;01mimport\u001B[39;00m \u001B[38;5;21;01mpandas\u001B[39;00m \u001B[38;5;28;01mas\u001B[39;00m \u001B[38;5;21;01mpd\u001B[39;00m\n\u001B[0;32m----> 2\u001B[0m \u001B[38;5;28;01mimport\u001B[39;00m \u001B[38;5;21;01mseaborn\u001B[39;00m \u001B[38;5;28;01mas\u001B[39;00m \u001B[38;5;21;01msns\u001B[39;00m\n\u001B[1;32m      3\u001B[0m \u001B[38;5;28;01mimport\u001B[39;00m \u001B[38;5;21;01mmatplotlib\u001B[39;00m\u001B[38;5;21;01m.\u001B[39;00m\u001B[38;5;21;01mpyplot\u001B[39;00m \u001B[38;5;28;01mas\u001B[39;00m \u001B[38;5;21;01mplt\u001B[39;00m\n\u001B[1;32m      5\u001B[0m \u001B[38;5;66;03m# Load the data\u001B[39;00m\n",
      "\u001B[0;31mModuleNotFoundError\u001B[0m: No module named 'seaborn'"
     ]
    }
   ],
   "source": [
    "import pandas as pd\n",
    "import seaborn as sns\n",
    "import matplotlib.pyplot as plt\n",
    "\n",
    "# Load the data\n",
    "df = pd.read_csv('k_anon.csv')\n",
    "\n",
    "# Create box plots\n",
    "plt.figure(figsize=(10, 6))\n",
    "\n",
    "plt.subplot(1, 3, 1)\n",
    "sns.boxplot(y=df['age'])\n",
    "plt.title('Age')\n",
    "\n",
    "plt.subplot(1, 3, 2)\n",
    "sns.boxplot(y=df['height'])\n",
    "plt.title('Height')\n",
    "\n",
    "plt.subplot(1, 3, 3)\n",
    "sns.boxplot(y=df['weight'])\n",
    "plt.title('Weight')\n",
    "\n",
    "plt.tight_layout()\n",
    "plt.show()\n",
    "\n",
    "columns = ['age', 'height', 'weight']\n",
    "\n",
    "# Calculate and print the statistics\n",
    "for col in columns:\n",
    "    mean = df[col].mean()\n",
    "    median = df[col].median()\n",
    "    mode = df[col].mode()[0]\n",
    "    std_dev = df[col].std()\n",
    "\n",
    "    print(f'{col} statistics:')\n",
    "    print(f'Mean: {mean}')\n",
    "    print(f'Median: {median}')\n",
    "    print(f'Mode: {mode}')\n",
    "    print(f'Standard Deviation: {std_dev}\\n')"
   ],
   "metadata": {
    "collapsed": false,
    "ExecuteTime": {
     "end_time": "2024-01-15T09:24:06.262902Z",
     "start_time": "2024-01-15T09:24:06.165076Z"
    }
   },
   "id": "7814efbf9c687b92",
   "execution_count": 53
  },
  {
   "cell_type": "markdown",
   "source": [
    "### l_diverse dataset\n",
    "\n"
   ],
   "metadata": {
    "collapsed": false
   },
   "id": "c7d8c83ec49ea8f"
  },
  {
   "cell_type": "code",
   "outputs": [
    {
     "ename": "ModuleNotFoundError",
     "evalue": "No module named 'seaborn'",
     "output_type": "error",
     "traceback": [
      "\u001B[0;31m---------------------------------------------------------------------------\u001B[0m",
      "\u001B[0;31mModuleNotFoundError\u001B[0m                       Traceback (most recent call last)",
      "Cell \u001B[0;32mIn[54], line 2\u001B[0m\n\u001B[1;32m      1\u001B[0m \u001B[38;5;28;01mimport\u001B[39;00m \u001B[38;5;21;01mpandas\u001B[39;00m \u001B[38;5;28;01mas\u001B[39;00m \u001B[38;5;21;01mpd\u001B[39;00m\n\u001B[0;32m----> 2\u001B[0m \u001B[38;5;28;01mimport\u001B[39;00m \u001B[38;5;21;01mseaborn\u001B[39;00m \u001B[38;5;28;01mas\u001B[39;00m \u001B[38;5;21;01msns\u001B[39;00m\n\u001B[1;32m      3\u001B[0m \u001B[38;5;28;01mimport\u001B[39;00m \u001B[38;5;21;01mmatplotlib\u001B[39;00m\u001B[38;5;21;01m.\u001B[39;00m\u001B[38;5;21;01mpyplot\u001B[39;00m \u001B[38;5;28;01mas\u001B[39;00m \u001B[38;5;21;01mplt\u001B[39;00m\n\u001B[1;32m      5\u001B[0m \u001B[38;5;66;03m# Load the data\u001B[39;00m\n",
      "\u001B[0;31mModuleNotFoundError\u001B[0m: No module named 'seaborn'"
     ]
    }
   ],
   "source": [
    "import pandas as pd\n",
    "import seaborn as sns\n",
    "import matplotlib.pyplot as plt\n",
    "\n",
    "# Load the data\n",
    "df = pd.read_csv('l_diverse.csv')\n",
    "\n",
    "# Create box plots\n",
    "plt.figure(figsize=(10, 6))\n",
    "\n",
    "plt.subplot(1, 3, 1)\n",
    "sns.boxplot(y=df['age'])\n",
    "plt.title('Age')\n",
    "\n",
    "plt.subplot(1, 3, 2)\n",
    "sns.boxplot(y=df['height'])\n",
    "plt.title('Height')\n",
    "\n",
    "plt.subplot(1, 3, 3)\n",
    "sns.boxplot(y=df['weight'])\n",
    "plt.title('Weight')\n",
    "\n",
    "plt.tight_layout()\n",
    "plt.show()\n",
    "\n",
    "columns = ['age', 'height', 'weight']\n",
    "\n",
    "# Calculate and print the statistics\n",
    "for col in columns:\n",
    "    mean = df[col].mean()\n",
    "    median = df[col].median()\n",
    "    mode = df[col].mode()[0]\n",
    "    std_dev = df[col].std()\n",
    "\n",
    "    print(f'{col} statistics:')\n",
    "    print(f'Mean: {mean}')\n",
    "    print(f'Median: {median}')\n",
    "    print(f'Mode: {mode}')\n",
    "    print(f'Standard Deviation: {std_dev}\\n')"
   ],
   "metadata": {
    "collapsed": false,
    "ExecuteTime": {
     "end_time": "2024-01-15T09:24:06.388332Z",
     "start_time": "2024-01-15T09:24:06.265718Z"
    }
   },
   "id": "76e4f0964c4cc444",
   "execution_count": 54
  },
  {
   "cell_type": "markdown",
   "source": [
    "### t-close dataset\n"
   ],
   "metadata": {
    "collapsed": false
   },
   "id": "74d7dc89abb81313"
  },
  {
   "cell_type": "code",
   "outputs": [
    {
     "ename": "ModuleNotFoundError",
     "evalue": "No module named 'seaborn'",
     "output_type": "error",
     "traceback": [
      "\u001B[0;31m---------------------------------------------------------------------------\u001B[0m",
      "\u001B[0;31mModuleNotFoundError\u001B[0m                       Traceback (most recent call last)",
      "Cell \u001B[0;32mIn[55], line 2\u001B[0m\n\u001B[1;32m      1\u001B[0m \u001B[38;5;28;01mimport\u001B[39;00m \u001B[38;5;21;01mpandas\u001B[39;00m \u001B[38;5;28;01mas\u001B[39;00m \u001B[38;5;21;01mpd\u001B[39;00m\n\u001B[0;32m----> 2\u001B[0m \u001B[38;5;28;01mimport\u001B[39;00m \u001B[38;5;21;01mseaborn\u001B[39;00m \u001B[38;5;28;01mas\u001B[39;00m \u001B[38;5;21;01msns\u001B[39;00m\n\u001B[1;32m      3\u001B[0m \u001B[38;5;28;01mimport\u001B[39;00m \u001B[38;5;21;01mmatplotlib\u001B[39;00m\u001B[38;5;21;01m.\u001B[39;00m\u001B[38;5;21;01mpyplot\u001B[39;00m \u001B[38;5;28;01mas\u001B[39;00m \u001B[38;5;21;01mplt\u001B[39;00m\n\u001B[1;32m      5\u001B[0m \u001B[38;5;66;03m# Load the data\u001B[39;00m\n",
      "\u001B[0;31mModuleNotFoundError\u001B[0m: No module named 'seaborn'"
     ]
    }
   ],
   "source": [
    "import pandas as pd\n",
    "import seaborn as sns\n",
    "import matplotlib.pyplot as plt\n",
    "\n",
    "# Load the data\n",
    "df = pd.read_csv('t_close.csv')\n",
    "\n",
    "# Create box plots\n",
    "plt.figure(figsize=(10, 6))\n",
    "\n",
    "plt.subplot(1, 3, 1)\n",
    "sns.boxplot(y=df['age'])\n",
    "plt.title('Age')\n",
    "\n",
    "plt.subplot(1, 3, 2)\n",
    "sns.boxplot(y=df['height'])\n",
    "plt.title('Height')\n",
    "\n",
    "plt.subplot(1, 3, 3)\n",
    "sns.boxplot(y=df['weight'])\n",
    "plt.title('Weight')\n",
    "\n",
    "plt.tight_layout()\n",
    "plt.show()\n",
    "\n",
    "columns = ['age', 'height', 'weight']\n",
    "\n",
    "# Calculate and print the statistics\n",
    "for col in columns:\n",
    "    mean = df[col].mean()\n",
    "    median = df[col].median()\n",
    "    mode = df[col].mode()[0]\n",
    "    std_dev = df[col].std()\n",
    "\n",
    "    print(f'{col} statistics:')\n",
    "    print(f'Mean: {mean}')\n",
    "    print(f'Median: {median}')\n",
    "    print(f'Mode: {mode}')\n",
    "    print(f'Standard Deviation: {std_dev}\\n')"
   ],
   "metadata": {
    "collapsed": false,
    "ExecuteTime": {
     "start_time": "2024-01-15T09:24:06.362879Z"
    }
   },
   "id": "b792726bf5387d7f",
   "execution_count": 55
  },
  {
   "cell_type": "markdown",
   "source": [
    "### clustered dataset"
   ],
   "metadata": {
    "collapsed": false
   },
   "id": "a36271065c270870"
  },
  {
   "cell_type": "code",
   "outputs": [
    {
     "ename": "ModuleNotFoundError",
     "evalue": "No module named 'seaborn'",
     "output_type": "error",
     "traceback": [
      "\u001B[0;31m---------------------------------------------------------------------------\u001B[0m",
      "\u001B[0;31mModuleNotFoundError\u001B[0m                       Traceback (most recent call last)",
      "Cell \u001B[0;32mIn[56], line 2\u001B[0m\n\u001B[1;32m      1\u001B[0m \u001B[38;5;28;01mimport\u001B[39;00m \u001B[38;5;21;01mpandas\u001B[39;00m \u001B[38;5;28;01mas\u001B[39;00m \u001B[38;5;21;01mpd\u001B[39;00m\n\u001B[0;32m----> 2\u001B[0m \u001B[38;5;28;01mimport\u001B[39;00m \u001B[38;5;21;01mseaborn\u001B[39;00m \u001B[38;5;28;01mas\u001B[39;00m \u001B[38;5;21;01msns\u001B[39;00m\n\u001B[1;32m      3\u001B[0m \u001B[38;5;28;01mimport\u001B[39;00m \u001B[38;5;21;01mmatplotlib\u001B[39;00m\u001B[38;5;21;01m.\u001B[39;00m\u001B[38;5;21;01mpyplot\u001B[39;00m \u001B[38;5;28;01mas\u001B[39;00m \u001B[38;5;21;01mplt\u001B[39;00m\n\u001B[1;32m      5\u001B[0m \u001B[38;5;66;03m# Load the data\u001B[39;00m\n",
      "\u001B[0;31mModuleNotFoundError\u001B[0m: No module named 'seaborn'"
     ]
    }
   ],
   "source": [
    "import pandas as pd\n",
    "import seaborn as sns\n",
    "import matplotlib.pyplot as plt\n",
    "\n",
    "# Load the data\n",
    "df = pd.read_csv('cluster.csv')\n",
    "\n",
    "# Create box plots\n",
    "plt.figure(figsize=(10, 6))\n",
    "\n",
    "plt.subplot(1, 3, 1)\n",
    "sns.boxplot(y=df['age'])\n",
    "plt.title('Age')\n",
    "\n",
    "plt.subplot(1, 3, 2)\n",
    "sns.boxplot(y=df['height'])\n",
    "plt.title('Height')\n",
    "\n",
    "plt.subplot(1, 3, 3)\n",
    "sns.boxplot(y=df['weight'])\n",
    "plt.title('Weight')\n",
    "\n",
    "plt.tight_layout()\n",
    "plt.show()\n",
    "\n",
    "columns = ['age', 'height', 'weight']\n",
    "\n",
    "# Calculate and print the statistics\n",
    "for col in columns:\n",
    "    mean = df[col].mean()\n",
    "    median = df[col].median()\n",
    "    mode = df[col].mode()[0]\n",
    "    std_dev = df[col].std()\n",
    "\n",
    "    print(f'{col} statistics:')\n",
    "    print(f'Mean: {mean}')\n",
    "    print(f'Median: {median}')\n",
    "    print(f'Mode: {mode}')\n",
    "    print(f'Standard Deviation: {std_dev}\\n')"
   ],
   "metadata": {
    "collapsed": false,
    "ExecuteTime": {
     "end_time": "2024-01-15T09:24:06.423422Z",
     "start_time": "2024-01-15T09:24:06.411279Z"
    }
   },
   "id": "5818342a54763ead",
   "execution_count": 56
  },
  {
   "cell_type": "markdown",
   "source": [
    "## During our statistical analysis, we observed that while k-anonymity, l-diversity, and t-closeness effectively preserve the statistical characteristics of the original dataset, k-means clustering alters the data's structure, leading to dissimilar statistical properties. This suggests that the k-anonymity, l-diversity, and t-closeness are more suitable for maintaining data utility in privacy-preserving contexts, whereas k-means clustering is more suitable for tasks that involve data reduction, exploratory data analysis, and the identification of homogeneous subgroups within a dataset"
   ],
   "metadata": {
    "collapsed": false
   },
   "id": "759e14a7a278b4ad"
  },
  {
   "cell_type": "markdown",
   "source": [
    "# Categorical Analysis\n",
    "## Frequency Table\n",
    "### k_anonymized dataset"
   ],
   "metadata": {
    "collapsed": false
   },
   "id": "fe8b04380c4e2992"
  },
  {
   "cell_type": "code",
   "outputs": [
    {
     "data": {
      "text/plain": "<Figure size 640x480 with 1 Axes>",
      "image/png": "[encoded data removed]"
     },
     "metadata": {},
     "output_type": "display_data"
    },
    {
     "name": "stdout",
     "output_type": "stream",
     "text": [
      "region\n",
      "North East             3842\n",
      "South East             3755\n",
      "Mid Atlantic           3488\n",
      "North Central          3388\n",
      "Southern California    3177\n",
      "Australia              3094\n",
      "South Central          3036\n",
      "Europe                 2987\n",
      "Northern California    2482\n",
      "South West             2318\n",
      "North West             2301\n",
      "Central East           2259\n",
      "Canada East            1329\n",
      "Canada West            1130\n",
      "Latin America           702\n",
      "Asia                    267\n",
      "Africa                  210\n",
      "Name: count, dtype: int64\n"
     ]
    }
   ],
   "source": [
    "import pandas as pd\n",
    "import matplotlib.pyplot as plt\n",
    "\n",
    "# Load the data\n",
    "df = pd.read_csv('k_anon.csv')\n",
    "\n",
    "# Calculate frequency table for the 'region' column\n",
    "frequency_table = df['region'].value_counts()\n",
    "\n",
    "# Plot the frequency table as a bar chart\n",
    "frequency_table.plot(kind='bar')\n",
    "\n",
    "# Add labels and title\n",
    "plt.xlabel('Region')\n",
    "plt.ylabel('Frequency')\n",
    "plt.title('Frequency of Regions')\n",
    "\n",
    "# Show the plot\n",
    "plt.show()\n",
    "print(frequency_table)"
   ],
   "metadata": {
    "collapsed": false,
    "ExecuteTime": {
     "end_time": "2024-01-15T09:24:06.684902Z",
     "start_time": "2024-01-15T09:24:06.425644Z"
    }
   },
   "id": "25f207d845e3b4bc",
   "execution_count": 57
  },
  {
   "cell_type": "markdown",
   "source": [
    "### l_diverse dataset"
   ],
   "metadata": {
    "collapsed": false
   },
   "id": "a907c910835ff062"
  },
  {
   "cell_type": "code",
   "outputs": [
    {
     "data": {
      "text/plain": "<Figure size 640x480 with 1 Axes>",
      "image/png": "[encoded data removed]"
     },
     "metadata": {},
     "output_type": "display_data"
    },
    {
     "name": "stdout",
     "output_type": "stream",
     "text": [
      "region\n",
      "Mid Atlantic           4282\n",
      "Australia              4275\n",
      "Europe                 4246\n",
      "South East             4130\n",
      "North East             3785\n",
      "North Central          3707\n",
      "Northern California    3646\n",
      "South Central          2975\n",
      "Southern California    2970\n",
      "Central East           2212\n",
      "South West             2148\n",
      "North West             2006\n",
      "Canada West            1423\n",
      "Canada East            1306\n",
      "Latin America           849\n",
      "Asia                    203\n",
      "Africa                  130\n",
      "Name: count, dtype: int64\n"
     ]
    }
   ],
   "source": [
    "import pandas as pd\n",
    "import matplotlib.pyplot as plt\n",
    "\n",
    "# Load the data\n",
    "df = pd.read_csv('l_diverse.csv')\n",
    "\n",
    "# Calculate frequency table for the 'region' column\n",
    "frequency_table = df['region'].value_counts()\n",
    "\n",
    "# Plot the frequency table as a bar chart\n",
    "frequency_table.plot(kind='bar')\n",
    "\n",
    "# Add labels and title\n",
    "plt.xlabel('Region')\n",
    "plt.ylabel('Frequency')\n",
    "plt.title('Frequency of Regions')\n",
    "\n",
    "# Show the plot\n",
    "plt.show()\n",
    "print(frequency_table)"
   ],
   "metadata": {
    "collapsed": false,
    "ExecuteTime": {
     "end_time": "2024-01-15T09:24:06.881476Z",
     "start_time": "2024-01-15T09:24:06.685812Z"
    }
   },
   "id": "2cf33795d14e0e82",
   "execution_count": 58
  },
  {
   "cell_type": "markdown",
   "source": [
    "### t_close dataset"
   ],
   "metadata": {
    "collapsed": false
   },
   "id": "fc6c217c8693501b"
  },
  {
   "cell_type": "code",
   "outputs": [
    {
     "data": {
      "text/plain": "<Figure size 640x480 with 1 Axes>",
      "image/png": "[encoded data removed]"
     },
     "metadata": {},
     "output_type": "display_data"
    },
    {
     "name": "stdout",
     "output_type": "stream",
     "text": [
      "region\n",
      "Europe                 14862\n",
      "North East              3948\n",
      "South East              3660\n",
      "Southern California     3080\n",
      "Northern California     2942\n",
      "South Central           2906\n",
      "Mid Atlantic            2760\n",
      "North West              2494\n",
      "North Central           2341\n",
      "South West              2289\n",
      "Central East            2244\n",
      "Australia               1919\n",
      "Canada East              979\n",
      "Canada West              787\n",
      "Latin America            333\n",
      "Asia                     243\n",
      "Africa                   175\n",
      "Name: count, dtype: int64\n"
     ]
    }
   ],
   "source": [
    "import pandas as pd\n",
    "import matplotlib.pyplot as plt\n",
    "\n",
    "# Load the data\n",
    "df = pd.read_csv('t_close.csv')\n",
    "\n",
    "# Calculate frequency table for the 'region' column\n",
    "frequency_table = df['region'].value_counts()\n",
    "\n",
    "# Plot the frequency table as a bar chart\n",
    "frequency_table.plot(kind='bar')\n",
    "\n",
    "# Add labels and title\n",
    "plt.xlabel('Region')\n",
    "plt.ylabel('Frequency')\n",
    "plt.title('Frequency of Regions')\n",
    "\n",
    "# Show the plot\n",
    "plt.show()\n",
    "print(frequency_table)"
   ],
   "metadata": {
    "collapsed": false,
    "ExecuteTime": {
     "end_time": "2024-01-15T09:24:07.067688Z",
     "start_time": "2024-01-15T09:24:06.882771Z"
    }
   },
   "id": "a7bdcdd8d28d6924",
   "execution_count": 59
  },
  {
   "cell_type": "markdown",
   "source": [
    "### cluster dataset"
   ],
   "metadata": {
    "collapsed": false
   },
   "id": "79dce66a60925483"
  },
  {
   "cell_type": "code",
   "outputs": [
    {
     "data": {
      "text/plain": "<Figure size 640x480 with 1 Axes>",
      "image/png": "[encoded data removed]"
     },
     "metadata": {},
     "output_type": "display_data"
    },
    {
     "name": "stdout",
     "output_type": "stream",
     "text": [
      "region\n",
      "North East    20000\n",
      "Name: count, dtype: int64\n"
     ]
    }
   ],
   "source": [
    "import pandas as pd\n",
    "import matplotlib.pyplot as plt\n",
    "\n",
    "# Load the data\n",
    "df = pd.read_csv('cluster.csv')\n",
    "\n",
    "# Calculate frequency table for the 'region' column\n",
    "frequency_table = df['region'].value_counts()\n",
    "\n",
    "# Plot the frequency table as a bar chart\n",
    "frequency_table.plot(kind='bar')\n",
    "\n",
    "# Add labels and title\n",
    "plt.xlabel('Region')\n",
    "plt.ylabel('Frequency')\n",
    "plt.title('Frequency of Regions')\n",
    "\n",
    "# Show the plot\n",
    "plt.show()\n",
    "print(frequency_table)"
   ],
   "metadata": {
    "collapsed": false,
    "ExecuteTime": {
     "end_time": "2024-01-15T09:24:07.177750Z",
     "start_time": "2024-01-15T09:24:07.069506Z"
    }
   },
   "id": "5ed2c649484d5b6",
   "execution_count": 60
  },
  {
   "cell_type": "markdown",
   "source": [
    "## In our frequency analysis, we observed differences across all methods - k-anonymity, l-diversity, t-closeness, and k-means clustering. We found that k-means clustering resulted in a significant loss of diversity, with only one value remaining. While k-means clustering can effectively group similar observations, it may not preserve the diversity of the original dataset"
   ],
   "metadata": {
    "collapsed": false
   },
   "id": "b2febeb47ec2e483"
  },
  {
   "cell_type": "markdown",
   "source": [
    "## Jaccard similarity Index\n",
    "The Jaccard similarity index will be a value between 0 and 1, where 0 indicates no similarity and 1 indicates identical sets.\n",
    "### k_anonymity and raw data"
   ],
   "metadata": {
    "collapsed": false
   },
   "id": "98405cd2b5710013"
  },
  {
   "cell_type": "code",
   "outputs": [
    {
     "name": "stdout",
     "output_type": "stream",
     "text": [
      "Jaccard Similarity Index: 1.0\n"
     ]
    }
   ],
   "source": [
    "import pandas as pd\n",
    "\n",
    "# Load the datasets\n",
    "raw_data = pd.read_csv('reduced_athletes.csv')\n",
    "anonymized_data = pd.read_csv('k_anon.csv')\n",
    "\n",
    "# Create sets of unique regions from each dataset\n",
    "raw_regions = set(raw_data['region'].unique())\n",
    "anonymized_regions = set(anonymized_data['region'].unique())\n",
    "\n",
    "# Calculate the Jaccard similarity index\n",
    "intersection = raw_regions.intersection(anonymized_regions)\n",
    "union = raw_regions.union(anonymized_regions)\n",
    "jaccard_index = len(intersection) / len(union)\n",
    "\n",
    "print(f'Jaccard Similarity Index: {jaccard_index}')"
   ],
   "metadata": {
    "collapsed": false,
    "ExecuteTime": {
     "end_time": "2024-01-15T09:24:07.308364Z",
     "start_time": "2024-01-15T09:24:07.177959Z"
    }
   },
   "id": "5a521d10616df598",
   "execution_count": 61
  },
  {
   "cell_type": "markdown",
   "source": [
    "### l_diversity and raw data"
   ],
   "metadata": {
    "collapsed": false
   },
   "id": "e7527ba9abb84fb6"
  },
  {
   "cell_type": "code",
   "outputs": [
    {
     "name": "stdout",
     "output_type": "stream",
     "text": [
      "Jaccard Similarity Index: 1.0\n"
     ]
    }
   ],
   "source": [
    "import pandas as pd\n",
    "\n",
    "# Load the datasets\n",
    "raw_data = pd.read_csv('reduced_athletes.csv')\n",
    "anonymized_data = pd.read_csv('l_diverse.csv')\n",
    "\n",
    "# Create sets of unique regions from each dataset\n",
    "raw_regions = set(raw_data['region'].unique())\n",
    "anonymized_regions = set(anonymized_data['region'].unique())\n",
    "\n",
    "# Calculate the Jaccard similarity index\n",
    "intersection = raw_regions.intersection(anonymized_regions)\n",
    "union = raw_regions.union(anonymized_regions)\n",
    "jaccard_index = len(intersection) / len(union)\n",
    "\n",
    "print(f'Jaccard Similarity Index: {jaccard_index}')"
   ],
   "metadata": {
    "collapsed": false,
    "ExecuteTime": {
     "end_time": "2024-01-15T09:24:07.444071Z",
     "start_time": "2024-01-15T09:24:07.308430Z"
    }
   },
   "id": "68e76df869cfe66f",
   "execution_count": 62
  },
  {
   "cell_type": "markdown",
   "source": [
    "### t_close and raw data"
   ],
   "metadata": {
    "collapsed": false
   },
   "id": "847ef64ceeef2011"
  },
  {
   "cell_type": "code",
   "outputs": [
    {
     "name": "stdout",
     "output_type": "stream",
     "text": [
      "Jaccard Similarity Index: 1.0\n"
     ]
    }
   ],
   "source": [
    "import pandas as pd\n",
    "\n",
    "# Load the datasets\n",
    "raw_data = pd.read_csv('reduced_athletes.csv')\n",
    "anonymized_data = pd.read_csv('t_close.csv')\n",
    "\n",
    "# Create sets of unique regions from each dataset\n",
    "raw_regions = set(raw_data['region'].unique())\n",
    "anonymized_regions = set(anonymized_data['region'].unique())\n",
    "\n",
    "# Calculate the Jaccard similarity index\n",
    "intersection = raw_regions.intersection(anonymized_regions)\n",
    "union = raw_regions.union(anonymized_regions)\n",
    "jaccard_index = len(intersection) / len(union)\n",
    "\n",
    "print(f'Jaccard Similarity Index: {jaccard_index}')"
   ],
   "metadata": {
    "collapsed": false,
    "ExecuteTime": {
     "end_time": "2024-01-15T09:24:07.562782Z",
     "start_time": "2024-01-15T09:24:07.445224Z"
    }
   },
   "id": "cf117668155ff703",
   "execution_count": 63
  },
  {
   "cell_type": "markdown",
   "source": [
    "### clustered and raw data"
   ],
   "metadata": {
    "collapsed": false
   },
   "id": "c2fe151560ccd4f1"
  },
  {
   "cell_type": "code",
   "outputs": [
    {
     "name": "stdout",
     "output_type": "stream",
     "text": [
      "Jaccard Similarity Index: 0.05555555555555555\n"
     ]
    }
   ],
   "source": [
    "import pandas as pd\n",
    "\n",
    "# Load the datasets\n",
    "raw_data = pd.read_csv('reduced_athletes.csv')\n",
    "anonymized_data = pd.read_csv('cluster.csv')\n",
    "\n",
    "# Create sets of unique regions from each dataset\n",
    "raw_regions = set(raw_data['region'].unique())\n",
    "anonymized_regions = set(anonymized_data['region'].unique())\n",
    "\n",
    "# Calculate the Jaccard similarity index\n",
    "intersection = raw_regions.intersection(anonymized_regions)\n",
    "union = raw_regions.union(anonymized_regions)\n",
    "jaccard_index = len(intersection) / len(union)\n",
    "\n",
    "print(f'Jaccard Similarity Index: {jaccard_index}')"
   ],
   "metadata": {
    "collapsed": false,
    "ExecuteTime": {
     "end_time": "2024-01-15T09:24:07.644255Z",
     "start_time": "2024-01-15T09:24:07.563934Z"
    }
   },
   "id": "c8e67be262b14906",
   "execution_count": 64
  },
  {
   "cell_type": "markdown",
   "source": [
    "The Jaccard Index of the Datasets are \n",
    "- 1 for k-anons with raw data\n",
    "- 1 for l-diverse with raw data\n",
    "- 1 for t-close with raw data\n",
    "- 0.055 for clustered with raw data\n",
    "\n",
    "## The Jaccard similarity index for k-anonymity, l-diversity, and t-closeness was 1, indicating a perfect overlap with the original dataset. However, the index for k-means clustering was close to 0, suggesting a significant divergence from the original data, which aligns with our observation of a loss of diversity in the clustered data"
   ],
   "metadata": {
    "collapsed": false
   },
   "id": "9844aa93c916210e"
  },
  {
   "cell_type": "markdown",
   "source": [
    "## 2. Comparing the relative utility of the data\n",
    "In this task, we compare the four anonymized datasets in regard to their similarities and differences with each other wiht an machine learning approach. In the code below, we are developing two separate machine learning models using the HistGradientBoostingRegressor from scikit-learn. The objective is to predict the age of athletes, which is a critical aspect for a sports company aiming to understand and analyze athlete performance and demographics. Our case study: We are the owners of a sports clothing brand and are willing to sponsor different athletes in different sports categories. For picking athletes in the near future, we want to predict their age and design our fashion for their age category accordingly. We want to see if: \n",
    "- The anonymized dataset should allow us to work with data while ensuring privacy and still gaining valuable insights.\n",
    "Thus, we try to predict the age using the different datasets:"
   ],
   "metadata": {
    "collapsed": false
   },
   "id": "1d34468855f454ad"
  },
  {
   "cell_type": "markdown",
   "source": [
    "### 2.1 k-anonymity dataset"
   ],
   "metadata": {
    "collapsed": false
   },
   "id": "66dd5f23858e5169"
  },
  {
   "cell_type": "code",
   "outputs": [
    {
     "name": "stderr",
     "output_type": "stream",
     "text": [
      "/Users/julius/Library/Python/3.9/lib/python/site-packages/sklearn/experimental/enable_hist_gradient_boosting.py:15: UserWarning: Since version 1.0, it is not needed to import enable_hist_gradient_boosting anymore. HistGradientBoostingClassifier and HistGradientBoostingRegressor are now stable and can be normally imported from sklearn.ensemble.\n",
      "  warnings.warn(\n"
     ]
    }
   ],
   "source": [
    "import pandas as pd\n",
    "from sklearn.model_selection import train_test_split\n",
    "from sklearn.experimental import enable_hist_gradient_boosting\n",
    "from sklearn.ensemble import HistGradientBoostingRegressor\n",
    "from sklearn.metrics import mean_squared_error, r2_score\n",
    "from sklearn.preprocessing import StandardScaler, OneHotEncoder\n",
    "from sklearn.impute import SimpleImputer\n",
    "from sklearn.compose import ColumnTransformer\n",
    "from sklearn.pipeline import Pipeline\n",
    "\n",
    "# Load datasets\n",
    "df_orig = pd.read_csv('reduced_athletes.csv')\n",
    "df_anonym = pd.read_csv('k_anon.csv')\n",
    "\n",
    "# Remove rows where 'age' is NaN\n",
    "df_orig = df_orig.dropna(subset=['age'])\n",
    "df_anonym = df_anonym.dropna(subset=['age'])\n",
    "\n",
    "# Set 'age' as the target variable for both datasets\n",
    "X_orig = df_orig.drop(columns=['age'])\n",
    "y_orig = df_orig['age']\n",
    "X_anonym = df_anonym.drop(columns=['age'])\n",
    "y_anonym = df_anonym['age']\n",
    "\n",
    "# Identify categorical columns for encoding\n",
    "categorical_cols_orig = X_orig.select_dtypes(include=['object']).columns\n",
    "categorical_cols_anonym = X_anonym.select_dtypes(include=['object']).columns\n",
    "\n",
    "# Create a preprocessor for scaling numeric and encoding categorical variables\n",
    "numeric_features_orig = X_orig.select_dtypes(exclude=['object']).columns\n",
    "numeric_features_anonym = X_anonym.select_dtypes(exclude=['object']).columns\n",
    "numeric_transformer = Pipeline(steps=[\n",
    "    ('imputer', SimpleImputer(strategy='mean')),\n",
    "    ('scaler', StandardScaler())])\n",
    "\n",
    "preprocessor_orig = ColumnTransformer(\n",
    "    transformers=[\n",
    "        ('num', numeric_transformer, numeric_features_orig),\n",
    "        ('cat', OneHotEncoder(sparse_output=False, handle_unknown='ignore'), categorical_cols_orig)\n",
    "    ])\n",
    "\n",
    "preprocessor_anonym = ColumnTransformer(\n",
    "    transformers=[\n",
    "        ('num', numeric_transformer, numeric_features_anonym),\n",
    "        ('cat', OneHotEncoder(sparse_output=False, handle_unknown='ignore'), categorical_cols_anonym)\n",
    "    ])\n",
    "\n",
    "# Create pipelines for each dataset\n",
    "model_orig = Pipeline(steps=[('preprocessor', preprocessor_orig),\n",
    "                             ('regressor', HistGradientBoostingRegressor())])\n",
    "\n",
    "model_anonym = Pipeline(steps=[('preprocessor', preprocessor_anonym),\n",
    "                               ('regressor', HistGradientBoostingRegressor())])"
   ],
   "metadata": {
    "collapsed": false,
    "ExecuteTime": {
     "end_time": "2024-01-15T09:24:12.544450Z",
     "start_time": "2024-01-15T09:24:07.648112Z"
    }
   },
   "id": "f911370655760cc5",
   "execution_count": 65
  },
  {
   "cell_type": "code",
   "outputs": [
    {
     "name": "stderr",
     "output_type": "stream",
     "text": [
      "/Users/julius/Library/Python/3.9/lib/python/site-packages/sklearn/impute/_base.py:558: UserWarning: Skipping features without any observed values: ['retrieved_datetime']. At least one non-missing value is needed for imputation with strategy='mean'.\n",
      "  warnings.warn(\n"
     ]
    },
    {
     "name": "stdout",
     "output_type": "stream",
     "text": [
      "Original Data - MSE: 31.721976436131108\n",
      "Original Data - R-squared: 0.14993445941899886\n"
     ]
    },
    {
     "name": "stderr",
     "output_type": "stream",
     "text": [
      "/Users/julius/Library/Python/3.9/lib/python/site-packages/sklearn/impute/_base.py:558: UserWarning: Skipping features without any observed values: ['retrieved_datetime']. At least one non-missing value is needed for imputation with strategy='mean'.\n",
      "  warnings.warn(\n"
     ]
    }
   ],
   "source": [
    "# Split and train on original data\n",
    "X_train_orig, X_test_orig, y_train_orig, y_test_orig = train_test_split(X_orig, y_orig, test_size=0.2, random_state=42)\n",
    "model_orig.fit(X_train_orig, y_train_orig)\n",
    "\n",
    "# Evaluate on original data\n",
    "y_pred_orig = model_orig.predict(X_test_orig)\n",
    "mse_orig = mean_squared_error(y_test_orig, y_pred_orig)\n",
    "r2_orig = r2_score(y_test_orig, y_pred_orig)\n",
    "print(\"Original Data - MSE:\", mse_orig)\n",
    "print(\"Original Data - R-squared:\", r2_orig)"
   ],
   "metadata": {
    "collapsed": false,
    "ExecuteTime": {
     "end_time": "2024-01-15T09:25:05.812311Z",
     "start_time": "2024-01-15T09:24:12.549710Z"
    }
   },
   "id": "b0f76d4042a32e83",
   "execution_count": 66
  },
  {
   "cell_type": "code",
   "outputs": [
    {
     "name": "stdout",
     "output_type": "stream",
     "text": [
      "Anonymized Data - MSE: 9.438367846625546\n",
      "Anonymized Data - R-squared: 0.9227887064312833\n"
     ]
    }
   ],
   "source": [
    "# Split and train on anonymized data\n",
    "X_train_anonym, X_test_anonym, y_train_anonym, y_test_anonym = train_test_split(X_anonym, y_anonym, test_size=0.2, random_state=42)\n",
    "model_anonym.fit(X_train_anonym, y_train_anonym)\n",
    "\n",
    "# Evaluate on anonymized data\n",
    "y_pred_anonym = model_anonym.predict(X_test_anonym)\n",
    "mse_anonym = mean_squared_error(y_test_anonym, y_pred_anonym)\n",
    "r2_anonym = r2_score(y_test_anonym, y_pred_anonym)\n",
    "print(\"Anonymized Data - MSE:\", mse_anonym)\n",
    "print(\"Anonymized Data - R-squared:\", r2_anonym)"
   ],
   "metadata": {
    "collapsed": false,
    "ExecuteTime": {
     "end_time": "2024-01-15T09:25:08.772103Z",
     "start_time": "2024-01-15T09:25:05.812829Z"
    }
   },
   "id": "f5a5ad1072658390",
   "execution_count": 67
  },
  {
   "cell_type": "code",
   "outputs": [
    {
     "name": "stdout",
     "output_type": "stream",
     "text": [
      "Performance difference:\n",
      "MSE - Original: 31.721976436131108, Anonymized: 9.438367846625546\n",
      "R-squared - Original: 0.14993445941899886, Anonymized: 0.9227887064312833\n"
     ]
    }
   ],
   "source": [
    "# Compare the performance\n",
    "print(\"Performance difference:\")\n",
    "print(f\"MSE - Original: {mse_orig}, Anonymized: {mse_anonym}\")\n",
    "print(f\"R-squared - Original: {r2_orig}, Anonymized: {r2_anonym}\")"
   ],
   "metadata": {
    "collapsed": false,
    "ExecuteTime": {
     "end_time": "2024-01-15T09:25:08.774851Z",
     "start_time": "2024-01-15T09:25:08.772650Z"
    }
   },
   "id": "a4a84d87a230b0ee",
   "execution_count": 68
  },
  {
   "cell_type": "markdown",
   "source": [
    "### l-diversity dataset"
   ],
   "metadata": {
    "collapsed": false
   },
   "id": "f8d9708c9bf54006"
  },
  {
   "cell_type": "code",
   "outputs": [
    {
     "name": "stderr",
     "output_type": "stream",
     "text": [
      "/Users/julius/Library/Python/3.9/lib/python/site-packages/sklearn/impute/_base.py:558: UserWarning: Skipping features without any observed values: ['retrieved_datetime']. At least one non-missing value is needed for imputation with strategy='mean'.\n",
      "  warnings.warn(\n",
      "/Users/julius/Library/Python/3.9/lib/python/site-packages/sklearn/impute/_base.py:558: UserWarning: Skipping features without any observed values: ['retrieved_datetime']. At least one non-missing value is needed for imputation with strategy='mean'.\n",
      "  warnings.warn(\n"
     ]
    },
    {
     "name": "stdout",
     "output_type": "stream",
     "text": [
      "Original Data - MSE: 31.721976436131108\n",
      "Original Data - R-squared: 0.14993445941899886\n",
      "Anonymized Data - MSE: 2.6831592355736165\n",
      "Anonymized Data - R-squared: 0.9725059369528373\n",
      "Performance difference:\n",
      "MSE - Original: 31.721976436131108, Anonymized: 2.6831592355736165\n",
      "R-squared - Original: 0.14993445941899886, Anonymized: 0.9725059369528373\n"
     ]
    }
   ],
   "source": [
    "import pandas as pd\n",
    "from sklearn.model_selection import train_test_split\n",
    "from sklearn.experimental import enable_hist_gradient_boosting\n",
    "from sklearn.ensemble import HistGradientBoostingRegressor\n",
    "from sklearn.metrics import mean_squared_error, r2_score\n",
    "from sklearn.preprocessing import StandardScaler, OneHotEncoder\n",
    "from sklearn.impute import SimpleImputer\n",
    "from sklearn.compose import ColumnTransformer\n",
    "from sklearn.pipeline import Pipeline\n",
    "\n",
    "# Load datasets\n",
    "df_orig = pd.read_csv('reduced_athletes.csv')\n",
    "df_anonym = pd.read_csv('l_diverse.csv')\n",
    "\n",
    "# Remove rows where 'age' is NaN\n",
    "df_orig = df_orig.dropna(subset=['age'])\n",
    "df_anonym = df_anonym.dropna(subset=['age'])\n",
    "\n",
    "# Set 'age' as the target variable for both datasets\n",
    "X_orig = df_orig.drop(columns=['age'])\n",
    "y_orig = df_orig['age']\n",
    "X_anonym = df_anonym.drop(columns=['age'])\n",
    "y_anonym = df_anonym['age']\n",
    "\n",
    "# Identify categorical columns for encoding\n",
    "categorical_cols_orig = X_orig.select_dtypes(include=['object']).columns\n",
    "categorical_cols_anonym = X_anonym.select_dtypes(include=['object']).columns\n",
    "\n",
    "# Create a preprocessor for scaling numeric and encoding categorical variables\n",
    "numeric_features_orig = X_orig.select_dtypes(exclude=['object']).columns\n",
    "numeric_features_anonym = X_anonym.select_dtypes(exclude=['object']).columns\n",
    "numeric_transformer = Pipeline(steps=[\n",
    "    ('imputer', SimpleImputer(strategy='mean')),\n",
    "    ('scaler', StandardScaler())])\n",
    "\n",
    "preprocessor_orig = ColumnTransformer(\n",
    "    transformers=[\n",
    "        ('num', numeric_transformer, numeric_features_orig),\n",
    "        ('cat', OneHotEncoder(sparse_output=False, handle_unknown='ignore'), categorical_cols_orig)\n",
    "    ])\n",
    "\n",
    "preprocessor_anonym = ColumnTransformer(\n",
    "    transformers=[\n",
    "        ('num', numeric_transformer, numeric_features_anonym),\n",
    "        ('cat', OneHotEncoder(sparse_output=False, handle_unknown='ignore'), categorical_cols_anonym)\n",
    "    ])\n",
    "\n",
    "# Create pipelines for each dataset\n",
    "model_orig = Pipeline(steps=[('preprocessor', preprocessor_orig),\n",
    "                             ('regressor', HistGradientBoostingRegressor())])\n",
    "\n",
    "model_anonym = Pipeline(steps=[('preprocessor', preprocessor_anonym),\n",
    "                               ('regressor', HistGradientBoostingRegressor())])\n",
    "# Split and train on original data\n",
    "X_train_orig, X_test_orig, y_train_orig, y_test_orig = train_test_split(X_orig, y_orig, test_size=0.2, random_state=42)\n",
    "model_orig.fit(X_train_orig, y_train_orig)\n",
    "\n",
    "# Evaluate on original data\n",
    "y_pred_orig = model_orig.predict(X_test_orig)\n",
    "mse_orig = mean_squared_error(y_test_orig, y_pred_orig)\n",
    "r2_orig = r2_score(y_test_orig, y_pred_orig)\n",
    "print(\"Original Data - MSE:\", mse_orig)\n",
    "print(\"Original Data - R-squared:\", r2_orig)\n",
    "# Split and train on anonymized data\n",
    "X_train_anonym, X_test_anonym, y_train_anonym, y_test_anonym = train_test_split(X_anonym, y_anonym, test_size=0.2, random_state=42)\n",
    "model_anonym.fit(X_train_anonym, y_train_anonym)\n",
    "\n",
    "# Evaluate on anonymized data\n",
    "y_pred_anonym = model_anonym.predict(X_test_anonym)\n",
    "mse_anonym = mean_squared_error(y_test_anonym, y_pred_anonym)\n",
    "r2_anonym = r2_score(y_test_anonym, y_pred_anonym)\n",
    "print(\"Anonymized Data - MSE:\", mse_anonym)\n",
    "print(\"Anonymized Data - R-squared:\", r2_anonym)\n",
    "\n",
    "# Compare the performance\n",
    "print(\"Performance difference:\")\n",
    "print(f\"MSE - Original: {mse_orig}, Anonymized: {mse_anonym}\")\n",
    "print(f\"R-squared - Original: {r2_orig}, Anonymized: {r2_anonym}\")"
   ],
   "metadata": {
    "collapsed": false,
    "ExecuteTime": {
     "end_time": "2024-01-15T09:26:04.610680Z",
     "start_time": "2024-01-15T09:25:08.783313Z"
    }
   },
   "id": "226e12de738b7e72",
   "execution_count": 69
  },
  {
   "cell_type": "markdown",
   "source": [
    "### t-closeness dataset"
   ],
   "metadata": {
    "collapsed": false
   },
   "id": "891a97fd9ff10ed6"
  },
  {
   "cell_type": "code",
   "outputs": [
    {
     "name": "stderr",
     "output_type": "stream",
     "text": [
      "/Users/julius/Library/Python/3.9/lib/python/site-packages/sklearn/impute/_base.py:558: UserWarning: Skipping features without any observed values: ['retrieved_datetime']. At least one non-missing value is needed for imputation with strategy='mean'.\n",
      "  warnings.warn(\n",
      "/Users/julius/Library/Python/3.9/lib/python/site-packages/sklearn/impute/_base.py:558: UserWarning: Skipping features without any observed values: ['retrieved_datetime']. At least one non-missing value is needed for imputation with strategy='mean'.\n",
      "  warnings.warn(\n"
     ]
    },
    {
     "name": "stdout",
     "output_type": "stream",
     "text": [
      "Original Data - MSE: 31.721976436131108\n",
      "Original Data - R-squared: 0.14993445941899886\n",
      "Anonymized Data - MSE: 5.260176374629235\n",
      "Anonymized Data - R-squared: 0.9125976023506402\n",
      "Performance difference:\n",
      "MSE - Original: 31.721976436131108, Anonymized: 5.260176374629235\n",
      "R-squared - Original: 0.14993445941899886, Anonymized: 0.9125976023506402\n"
     ]
    }
   ],
   "source": [
    "import pandas as pd\n",
    "from sklearn.model_selection import train_test_split\n",
    "from sklearn.experimental import enable_hist_gradient_boosting\n",
    "from sklearn.ensemble import HistGradientBoostingRegressor\n",
    "from sklearn.metrics import mean_squared_error, r2_score\n",
    "from sklearn.preprocessing import StandardScaler, OneHotEncoder\n",
    "from sklearn.impute import SimpleImputer\n",
    "from sklearn.compose import ColumnTransformer\n",
    "from sklearn.pipeline import Pipeline\n",
    "\n",
    "# Load datasets\n",
    "df_orig = pd.read_csv('reduced_athletes.csv')\n",
    "df_anonym = pd.read_csv('t_close.csv')\n",
    "\n",
    "# Remove rows where 'age' is NaN\n",
    "df_orig = df_orig.dropna(subset=['age'])\n",
    "df_anonym = df_anonym.dropna(subset=['age'])\n",
    "\n",
    "# Set 'age' as the target variable for both datasets\n",
    "X_orig = df_orig.drop(columns=['age'])\n",
    "y_orig = df_orig['age']\n",
    "X_anonym = df_anonym.drop(columns=['age'])\n",
    "y_anonym = df_anonym['age']\n",
    "\n",
    "# Identify categorical columns for encoding\n",
    "categorical_cols_orig = X_orig.select_dtypes(include=['object']).columns\n",
    "categorical_cols_anonym = X_anonym.select_dtypes(include=['object']).columns\n",
    "\n",
    "# Create a preprocessor for scaling numeric and encoding categorical variables\n",
    "numeric_features_orig = X_orig.select_dtypes(exclude=['object']).columns\n",
    "numeric_features_anonym = X_anonym.select_dtypes(exclude=['object']).columns\n",
    "numeric_transformer = Pipeline(steps=[\n",
    "    ('imputer', SimpleImputer(strategy='mean')),\n",
    "    ('scaler', StandardScaler())])\n",
    "\n",
    "preprocessor_orig = ColumnTransformer(\n",
    "    transformers=[\n",
    "        ('num', numeric_transformer, numeric_features_orig),\n",
    "        ('cat', OneHotEncoder(sparse_output=False, handle_unknown='ignore'), categorical_cols_orig)\n",
    "    ])\n",
    "\n",
    "preprocessor_anonym = ColumnTransformer(\n",
    "    transformers=[\n",
    "        ('num', numeric_transformer, numeric_features_anonym),\n",
    "        ('cat', OneHotEncoder(sparse_output=False, handle_unknown='ignore'), categorical_cols_anonym)\n",
    "    ])\n",
    "\n",
    "# Create pipelines for each dataset\n",
    "model_orig = Pipeline(steps=[('preprocessor', preprocessor_orig),\n",
    "                             ('regressor', HistGradientBoostingRegressor())])\n",
    "\n",
    "model_anonym = Pipeline(steps=[('preprocessor', preprocessor_anonym),\n",
    "                               ('regressor', HistGradientBoostingRegressor())])\n",
    "# Split and train on original data\n",
    "X_train_orig, X_test_orig, y_train_orig, y_test_orig = train_test_split(X_orig, y_orig, test_size=0.2, random_state=42)\n",
    "model_orig.fit(X_train_orig, y_train_orig)\n",
    "\n",
    "# Evaluate on original data\n",
    "y_pred_orig = model_orig.predict(X_test_orig)\n",
    "mse_orig = mean_squared_error(y_test_orig, y_pred_orig)\n",
    "r2_orig = r2_score(y_test_orig, y_pred_orig)\n",
    "print(\"Original Data - MSE:\", mse_orig)\n",
    "print(\"Original Data - R-squared:\", r2_orig)\n",
    "# Split and train on anonymized data\n",
    "X_train_anonym, X_test_anonym, y_train_anonym, y_test_anonym = train_test_split(X_anonym, y_anonym, test_size=0.2, random_state=42)\n",
    "model_anonym.fit(X_train_anonym, y_train_anonym)\n",
    "\n",
    "# Evaluate on anonymized data\n",
    "y_pred_anonym = model_anonym.predict(X_test_anonym)\n",
    "mse_anonym = mean_squared_error(y_test_anonym, y_pred_anonym)\n",
    "r2_anonym = r2_score(y_test_anonym, y_pred_anonym)\n",
    "print(\"Anonymized Data - MSE:\", mse_anonym)\n",
    "print(\"Anonymized Data - R-squared:\", r2_anonym)\n",
    "\n",
    "# Compare the performance\n",
    "print(\"Performance difference:\")\n",
    "print(f\"MSE - Original: {mse_orig}, Anonymized: {mse_anonym}\")\n",
    "print(f\"R-squared - Original: {r2_orig}, Anonymized: {r2_anonym}\")"
   ],
   "metadata": {
    "collapsed": false,
    "ExecuteTime": {
     "end_time": "2024-01-15T09:26:57.373862Z",
     "start_time": "2024-01-15T09:26:04.615861Z"
    }
   },
   "id": "73e945ae76416d16",
   "execution_count": 70
  },
  {
   "cell_type": "markdown",
   "source": [
    "### clustering dataset"
   ],
   "metadata": {
    "collapsed": false
   },
   "id": "352ddd9f32f0ea0a"
  },
  {
   "cell_type": "code",
   "outputs": [
    {
     "name": "stderr",
     "output_type": "stream",
     "text": [
      "/Users/julius/Library/Python/3.9/lib/python/site-packages/sklearn/impute/_base.py:558: UserWarning: Skipping features without any observed values: ['retrieved_datetime']. At least one non-missing value is needed for imputation with strategy='mean'.\n",
      "  warnings.warn(\n",
      "/Users/julius/Library/Python/3.9/lib/python/site-packages/sklearn/impute/_base.py:558: UserWarning: Skipping features without any observed values: ['retrieved_datetime']. At least one non-missing value is needed for imputation with strategy='mean'.\n",
      "  warnings.warn(\n",
      "/Users/julius/Library/Python/3.9/lib/python/site-packages/sklearn/impute/_base.py:558: UserWarning: Skipping features without any observed values: ['retrieved_datetime']. At least one non-missing value is needed for imputation with strategy='mean'.\n",
      "  warnings.warn(\n"
     ]
    },
    {
     "name": "stdout",
     "output_type": "stream",
     "text": [
      "Original Data - MSE: 31.721976436131108\n",
      "Original Data - R-squared: 0.14993445941899886\n",
      "Anonymized Data - MSE: 0.0022427483464568364\n",
      "Anonymized Data - R-squared: 0.9998746733963704\n",
      "Performance difference:\n",
      "MSE - Original: 31.721976436131108, Anonymized: 0.0022427483464568364\n",
      "R-squared - Original: 0.14993445941899886, Anonymized: 0.9998746733963704\n"
     ]
    },
    {
     "name": "stderr",
     "output_type": "stream",
     "text": [
      "/Users/julius/Library/Python/3.9/lib/python/site-packages/sklearn/impute/_base.py:558: UserWarning: Skipping features without any observed values: ['retrieved_datetime']. At least one non-missing value is needed for imputation with strategy='mean'.\n",
      "  warnings.warn(\n"
     ]
    }
   ],
   "source": [
    "import pandas as pd\n",
    "from sklearn.model_selection import train_test_split\n",
    "from sklearn.experimental import enable_hist_gradient_boosting\n",
    "from sklearn.ensemble import HistGradientBoostingRegressor\n",
    "from sklearn.metrics import mean_squared_error, r2_score\n",
    "from sklearn.preprocessing import StandardScaler, OneHotEncoder\n",
    "from sklearn.impute import SimpleImputer\n",
    "from sklearn.compose import ColumnTransformer\n",
    "from sklearn.pipeline import Pipeline\n",
    "\n",
    "# Load datasets\n",
    "df_orig = pd.read_csv('reduced_athletes.csv')\n",
    "df_anonym = pd.read_csv('cluster.csv')\n",
    "\n",
    "# Remove rows where 'age' is NaN\n",
    "df_orig = df_orig.dropna(subset=['age'])\n",
    "df_anonym = df_anonym.dropna(subset=['age'])\n",
    "\n",
    "# Set 'age' as the target variable for both datasets\n",
    "X_orig = df_orig.drop(columns=['age'])\n",
    "y_orig = df_orig['age']\n",
    "X_anonym = df_anonym.drop(columns=['age'])\n",
    "y_anonym = df_anonym['age']\n",
    "\n",
    "# Identify categorical columns for encoding\n",
    "categorical_cols_orig = X_orig.select_dtypes(include=['object']).columns\n",
    "categorical_cols_anonym = X_anonym.select_dtypes(include=['object']).columns\n",
    "\n",
    "# Create a preprocessor for scaling numeric and encoding categorical variables\n",
    "numeric_features_orig = X_orig.select_dtypes(exclude=['object']).columns\n",
    "numeric_features_anonym = X_anonym.select_dtypes(exclude=['object']).columns\n",
    "numeric_transformer = Pipeline(steps=[\n",
    "    ('imputer', SimpleImputer(strategy='mean')),\n",
    "    ('scaler', StandardScaler())])\n",
    "\n",
    "preprocessor_orig = ColumnTransformer(\n",
    "    transformers=[\n",
    "        ('num', numeric_transformer, numeric_features_orig),\n",
    "        ('cat', OneHotEncoder(sparse_output=False, handle_unknown='ignore'), categorical_cols_orig)\n",
    "    ])\n",
    "\n",
    "preprocessor_anonym = ColumnTransformer(\n",
    "    transformers=[\n",
    "        ('num', numeric_transformer, numeric_features_anonym),\n",
    "        ('cat', OneHotEncoder(sparse_output=False, handle_unknown='ignore'), categorical_cols_anonym)\n",
    "    ])\n",
    "\n",
    "# Create pipelines for each dataset\n",
    "model_orig = Pipeline(steps=[('preprocessor', preprocessor_orig),\n",
    "                             ('regressor', HistGradientBoostingRegressor())])\n",
    "\n",
    "model_anonym = Pipeline(steps=[('preprocessor', preprocessor_anonym),\n",
    "                               ('regressor', HistGradientBoostingRegressor())])\n",
    "# Split and train on original data\n",
    "X_train_orig, X_test_orig, y_train_orig, y_test_orig = train_test_split(X_orig, y_orig, test_size=0.2, random_state=42)\n",
    "model_orig.fit(X_train_orig, y_train_orig)\n",
    "\n",
    "# Evaluate on original data\n",
    "y_pred_orig = model_orig.predict(X_test_orig)\n",
    "mse_orig = mean_squared_error(y_test_orig, y_pred_orig)\n",
    "r2_orig = r2_score(y_test_orig, y_pred_orig)\n",
    "print(\"Original Data - MSE:\", mse_orig)\n",
    "print(\"Original Data - R-squared:\", r2_orig)\n",
    "# Split and train on anonymized data\n",
    "X_train_anonym, X_test_anonym, y_train_anonym, y_test_anonym = train_test_split(X_anonym, y_anonym, test_size=0.2, random_state=42)\n",
    "model_anonym.fit(X_train_anonym, y_train_anonym)\n",
    "\n",
    "# Evaluate on anonymized data\n",
    "y_pred_anonym = model_anonym.predict(X_test_anonym)\n",
    "mse_anonym = mean_squared_error(y_test_anonym, y_pred_anonym)\n",
    "r2_anonym = r2_score(y_test_anonym, y_pred_anonym)\n",
    "print(\"Anonymized Data - MSE:\", mse_anonym)\n",
    "print(\"Anonymized Data - R-squared:\", r2_anonym)\n",
    "\n",
    "# Compare the performance\n",
    "print(\"Performance difference:\")\n",
    "print(f\"MSE - Original: {mse_orig}, Anonymized: {mse_anonym}\")\n",
    "print(f\"R-squared - Original: {r2_orig}, Anonymized: {r2_anonym}\")"
   ],
   "metadata": {
    "collapsed": false,
    "ExecuteTime": {
     "end_time": "2024-01-15T09:28:07.498270Z",
     "start_time": "2024-01-15T09:26:57.370366Z"
    }
   },
   "id": "ecb53b5846872fc0",
   "execution_count": 71
  },
  {
   "cell_type": "markdown",
   "source": [
    "### Conclusion\n",
    "- Mean Squared Error (MSE): The MSE is a measure of the average squared difference between the actual and predicted values. A lower MSE indicates better model performance.\n",
    "- R-squared: R-squared is the proportion of the variance in the dependent variable that is predictable from the independent variables. It ranges from 0 to 1, higher values indicate better model fit.\n",
    "\n",
    "Setting test_size=0.2 means that 20% of the data will be used for testing, while the remaining 80% will be used for training the model. Our models have higher performance on the anonymized data (in k-anon, l-div and t-close) indicate differences in data quality or characteristics post-anonymization. Expecially in the clustering with 7 clusters, this gets becomes clear. It suggests that the model is well-tuned to the anonymized data, but this might not fully translate to the original data's characteristics. Our guess is that having 4x more entries than the reduced_athletes.csv has a significant role in this result. For our sports clothing brand, the model's performance on the anonymized dataset might seem encouraging for predicting the age of athletes. However, caution is advised in directly translating these results into marketing and product design strategies. It's important to validate these findings with more real-world data to ensure the predictions align with the target market's actual age distribution."
   ],
   "metadata": {
    "collapsed": false
   },
   "id": "b68dfff257f45cbd"
  },
  {
   "cell_type": "markdown",
   "source": [
    "### 3.1 Degree of information loss\n",
    "In data privacy, balancing data utility with privacy protection is essential. This chapter focuses on quantifying information loss in key anonymization techniques: k-Anonymity, t-Closeness, l-Diversity, and Clustering. Each method, crucial for protecting personal data, incurs some information loss, impacting data precision. We will examine how this loss is measured, a big factor in assessing the effectiveness of these anonymization algorithms."
   ],
   "metadata": {
    "collapsed": false
   },
   "id": "301ba97a655aa605"
  },
  {
   "cell_type": "code",
   "outputs": [],
   "source": [
    "df = pd.read_csv(\"reduced_athletes.csv\")\n",
    "t_close_df = pd.read_csv('t_close.csv')\n",
    "l_diverse_df = pd.read_csv('l_diverse.csv')\n",
    "k_anon_df = pd.read_csv('k_anon.csv')\n",
    "cluster_df = pd.read_csv('cluster.csv')"
   ],
   "metadata": {
    "collapsed": false,
    "ExecuteTime": {
     "end_time": "2024-01-15T09:28:07.839285Z",
     "start_time": "2024-01-15T09:28:07.499710Z"
    }
   },
   "id": "d739238956e3d422",
   "execution_count": 72
  },
  {
   "cell_type": "code",
   "outputs": [],
   "source": [
    "def estimate_generalization_levels(df, quasi_identifiers, k):\n",
    "    generalization_levels = {}\n",
    "    for qi in quasi_identifiers:\n",
    "        # For categorical data, assume generalization level corresponds to the number of unique values divided by k.\n",
    "        # For numerical data, assume generalization level corresponds to the range of the values divided by k.\n",
    "        if qi in categorical:\n",
    "            generalization_levels[qi] = df[qi].nunique() // k\n",
    "        else:  \n",
    "            generalization_levels[qi] = (df[qi].max() - df[qi].min()) // k\n",
    "    return generalization_levels\n",
    "\n",
    "\n",
    "# Define a function to calculate the height of the generalization hierarchy for each attribute\n",
    "def calc_generalization_heights(df, quasi_identifiers):\n",
    "    heights = {}\n",
    "    for qi in quasi_identifiers:\n",
    "        if qi in categorical:\n",
    "            # For categorical attributes, the height is the number of unique values\n",
    "            heights[qi] = df[qi].nunique()\n",
    "        else:\n",
    "            # For numerical attributes, the height is calculated based on the range (max - min)\n",
    "            # In a real-world scenario, this might be different based on how the data is generalized\n",
    "            heights[qi] = df[qi].max() - df[qi].min() + 1  # +1 to include the range itself\n",
    "    return heights\n",
    "\n",
    "# Information Loss (IL)\n",
    "def calculate_information_loss(df, generalization_levels, heights, s):\n",
    "    n = len(df)  # number of rows\n",
    "    m = len(generalization_levels)  # number of quasi identifier attributes\n",
    "    \n",
    "    # Summation part of the formula\n",
    "    summation = sum((generalization_levels[qi] / heights[qi]) for qi in generalization_levels)\n",
    "    \n",
    "    # Complete IL formula including row suppression\n",
    "    IL = (s / n) + (summation * (1 / m)) * ((n - s) / n)\n",
    "    \n",
    "    return IL"
   ],
   "metadata": {
    "collapsed": false,
    "ExecuteTime": {
     "end_time": "2024-01-15T09:28:07.844213Z",
     "start_time": "2024-01-15T09:28:07.841045Z"
    }
   },
   "id": "ca22c6c897ba2139",
   "execution_count": 73
  },
  {
   "cell_type": "markdown",
   "source": [
    "### k_anonymized dataset\n",
    "- For this dataset, we calculate the information loss: "
   ],
   "metadata": {
    "collapsed": false
   },
   "id": "b66fa681029d0549"
  },
  {
   "cell_type": "code",
   "outputs": [
    {
     "name": "stdout",
     "output_type": "stream",
     "text": [
      "generalization levels {'region': 5, 'gender': 0, 'age': 21.0, 'height': 54.0, 'weight': 257.0, 'eat': 7, 'schedule': 19, 'howlong': 4}\n",
      "generalization heights {'region': 17, 'gender': 2, 'age': 103.0, 'height': 315.0, 'weight': 2204.0, 'eat': 35, 'schedule': 93, 'howlong': 21}\n",
      "Information loss:  0.17260164374711812\n"
     ]
    }
   ],
   "source": [
    "quasi_identifiers = ['region', 'gender', 'age', 'height', 'weight', 'eat', 'schedule', 'howlong']\n",
    "categorical = {'schedule', 'howlong', 'region', 'gender', 'eat'}\n",
    "s = 0 #Since we did not change anything about the rest of the columns, we are not going to include them in this calculation\n",
    "\n",
    "generalization_levels = estimate_generalization_levels(k_anon_df, quasi_identifiers, 3)\n",
    "print(\"generalization levels\", generalization_levels)             \n",
    "\n",
    "# Calculate the height of the generalization hierarchy for each quasi-identifier\n",
    "heights = calc_generalization_heights(df, quasi_identifiers)\n",
    "print(\"generalization heights\", heights)\n",
    "\n",
    "# Call the function to calculate the total Information Loss\n",
    "IL_value_kanon = calculate_information_loss(df, generalization_levels, heights, s)\n",
    "print(\"Information loss: \", IL_value_kanon)"
   ],
   "metadata": {
    "collapsed": false,
    "ExecuteTime": {
     "end_time": "2024-01-15T09:28:07.857850Z",
     "start_time": "2024-01-15T09:28:07.847420Z"
    }
   },
   "id": "bd87e88c5e3f656b",
   "execution_count": 74
  },
  {
   "cell_type": "markdown",
   "source": [
    "### l-diverse dataset\n",
    "- Same procedure as above"
   ],
   "metadata": {
    "collapsed": false
   },
   "id": "f54d7a70b48769ac"
  },
  {
   "cell_type": "code",
   "outputs": [
    {
     "name": "stdout",
     "output_type": "stream",
     "text": [
      "generalization levels {'region': 5, 'gender': 0, 'age': 13.0, 'height': 45.0, 'weight': 164.0, 'eat': 6, 'schedule': 17, 'howlong': 4}\n",
      "generalization heights {'region': 17, 'gender': 2, 'age': 103.0, 'height': 315.0, 'weight': 2204.0, 'eat': 35, 'schedule': 93, 'howlong': 21}\n",
      "Information loss:  0.14778737578973153\n"
     ]
    }
   ],
   "source": [
    "generalization_levels = estimate_generalization_levels(l_diverse_df, quasi_identifiers, 3)\n",
    "print(\"generalization levels\", generalization_levels)             \n",
    "\n",
    "# Calculate the height of the generalization hierarchy for each quasi-identifier\n",
    "heights = calc_generalization_heights(df, quasi_identifiers)\n",
    "print(\"generalization heights\", heights)\n",
    "\n",
    "# Call the function to calculate the total Information Loss\n",
    "IL_value_ldiv = calculate_information_loss(df, generalization_levels, heights, s)\n",
    "print(\"Information loss: \", IL_value_ldiv)"
   ],
   "metadata": {
    "collapsed": false,
    "ExecuteTime": {
     "end_time": "2024-01-15T09:28:07.877137Z",
     "start_time": "2024-01-15T09:28:07.859156Z"
    }
   },
   "id": "379a21310ae26b92",
   "execution_count": 75
  },
  {
   "cell_type": "markdown",
   "source": [
    "### t-close dataset\n",
    "- Same procedure as above"
   ],
   "metadata": {
    "collapsed": false
   },
   "id": "2062f33b89042e51"
  },
  {
   "cell_type": "code",
   "outputs": [
    {
     "name": "stdout",
     "output_type": "stream",
     "text": [
      "generalization levels {'region': 5, 'gender': 0, 'age': 15.0, 'height': 54.0, 'weight': 257.0, 'eat': 7, 'schedule': 17, 'howlong': 4}\n",
      "generalization heights {'region': 17, 'gender': 2, 'age': 103.0, 'height': 315.0, 'weight': 2204.0, 'eat': 35, 'schedule': 93, 'howlong': 21}\n",
      "Information loss:  0.16263191830604912\n"
     ]
    }
   ],
   "source": [
    "generalization_levels = estimate_generalization_levels(t_close_df, quasi_identifiers, 3)\n",
    "print(\"generalization levels\", generalization_levels)             \n",
    "\n",
    "# Calculate the height of the generalization hierarchy for each quasi-identifier\n",
    "heights = calc_generalization_heights(df, quasi_identifiers)\n",
    "print(\"generalization heights\", heights)\n",
    "\n",
    "# Call the function to calculate the total Information Loss\n",
    "IL_value_tclose = calculate_information_loss(df, generalization_levels, heights, s)\n",
    "print(\"Information loss: \", IL_value_tclose)"
   ],
   "metadata": {
    "collapsed": false,
    "ExecuteTime": {
     "end_time": "2024-01-15T09:28:07.879608Z",
     "start_time": "2024-01-15T09:28:07.871432Z"
    }
   },
   "id": "a62784af8f95ecde",
   "execution_count": 76
  },
  {
   "cell_type": "markdown",
   "source": [
    "### cluster dataset\n",
    "- For Clustering, we used different quasi identifiers"
   ],
   "metadata": {
    "collapsed": false
   },
   "id": "48357ba0249e67e6"
  },
  {
   "cell_type": "code",
   "outputs": [
    {
     "name": "stdout",
     "output_type": "stream",
     "text": [
      "generalization levels {'region': 0, 'age': 5.0, 'height': 97.0, 'weight': 606.0}\n",
      "generalization heights {'region': 17, 'age': 103.0, 'height': 315.0, 'weight': 2204.0}\n",
      "Information loss:  0.15785870630151988\n"
     ]
    }
   ],
   "source": [
    "quasi_identifiers = ['region', 'age', 'height', 'weight']\n",
    "categorical = {'region'}\n",
    "s = 0 #Since we did not change anything about the rest of the columns, we are not going to include them in this calculation\n",
    "\n",
    "generalization_levels = estimate_generalization_levels(cluster_df, quasi_identifiers, 3)\n",
    "print(\"generalization levels\", generalization_levels)             \n",
    "\n",
    "# Calculate the height of the generalization hierarchy for each quasi-identifier\n",
    "heights = calc_generalization_heights(df, quasi_identifiers)\n",
    "print(\"generalization heights\", heights)\n",
    "\n",
    "# Call the function to calculate the total Information Loss\n",
    "IL_value_cluster = calculate_information_loss(df, generalization_levels, heights, s)\n",
    "print(\"Information loss: \", IL_value_cluster)"
   ],
   "metadata": {
    "collapsed": false,
    "ExecuteTime": {
     "end_time": "2024-01-15T09:28:07.887029Z",
     "start_time": "2024-01-15T09:28:07.879162Z"
    }
   },
   "id": "effb5b2ae03cb436",
   "execution_count": 77
  },
  {
   "cell_type": "markdown",
   "source": [
    "### Conclusion\n",
    "As we can see, our anonymization techniques have varying impact on the information being lost in the process. in our configuration with the 8 quasi identifiers, the l-diverse dataset has the least information loss occurring. "
   ],
   "metadata": {
    "collapsed": false
   },
   "id": "9339cb7dd0a0a583"
  },
  {
   "cell_type": "code",
   "outputs": [
    {
     "data": {
      "text/plain": "<Figure size 800x500 with 1 Axes>",
      "image/png": "[encoded data removed]"
     },
     "metadata": {},
     "output_type": "display_data"
    }
   ],
   "source": [
    "import matplotlib.pyplot as plt\n",
    "\n",
    "# Information loss values for different anonymization techniques\n",
    "IL_values = {\n",
    "    \"k-Anonymity\": IL_value_kanon,  \n",
    "    \"Clustering\": IL_value_cluster,   \n",
    "    \"t-Closeness\": IL_value_tclose, \n",
    "    \"l-Diversity\": IL_value_ldiv   \n",
    "}\n",
    "\n",
    "# Creating a bar plot\n",
    "plt.figure(figsize=(8, 5))\n",
    "plt.bar(IL_values.keys(), IL_values.values(), color=['blue', 'green', 'red', 'purple'])\n",
    "\n",
    "# Adding titles and labels\n",
    "plt.title('Information Loss in Different Anonymization algorithms')\n",
    "plt.xlabel('Anonymization algorithm')\n",
    "plt.ylabel('Information Loss (fraction)')\n",
    "\n",
    "plt.show()"
   ],
   "metadata": {
    "collapsed": false,
    "ExecuteTime": {
     "end_time": "2024-01-15T09:28:08.021524Z",
     "start_time": "2024-01-15T09:28:07.890404Z"
    }
   },
   "id": "b58b9404574144e",
   "execution_count": 78
  },
  {
   "cell_type": "markdown",
   "source": [
    "### 3.2 Time to anonymize\n",
    "\n",
    "1. Comparing the number of needed partitions in each algorithm for reduced_athletes.csv (see code in 3.2, #partitions get printed in every algorithm) \n",
    "    - k-anonymity: 2910 partitions\n",
    "    - l = 2 - diverse on top of k-anonymity: 1279 partitions \n",
    "    - t = 0.2 - closeness on top of k-anonymity: 1950 partitions\n",
    "2. Comparing the size of the resulting datasets when using reduced_athletes"
   ],
   "metadata": {
    "collapsed": false
   },
   "id": "828357488c2c7545"
  },
  {
   "cell_type": "code",
   "outputs": [
    {
     "name": "stdout",
     "output_type": "stream",
     "text": [
      "Length of t_close.csv: 70226\n",
      "Length of l_diverse.csv: 78175\n",
      "Length of k_anon.csv: 81697\n",
      "Length of cluster.csv 20000\n"
     ]
    }
   ],
   "source": [
    "print(\"Length of t_close.csv:\", len(t_close_df))\n",
    "print(\"Length of l_diverse.csv:\", len(l_diverse_df))\n",
    "print(\"Length of k_anon.csv:\", len(k_anon_df))\n",
    "print(\"Length of cluster.csv\", len(cluster_df))"
   ],
   "metadata": {
    "collapsed": false,
    "ExecuteTime": {
     "end_time": "2024-01-15T09:28:08.028357Z",
     "start_time": "2024-01-15T09:28:08.021149Z"
    }
   },
   "id": "c05e3d8c1b02f4aa",
   "execution_count": 79
  },
  {
   "cell_type": "markdown",
   "source": [
    "3. runtime to anonymise for varying dataset sizes:  \n",
    "   - Using the athletes.csv dataset and limiting to a certain amount of rows\n",
    "   - Parameters: \n",
    "     1. k=3 anomymity\n",
    "     2. k-anonymity + l-diversity with l=2\n",
    "     3. k-anonymity + t-closeness with t=0.2\n",
    "     4. clustering with 7 clusters\n",
    "   - The following data points were extracted: "
   ],
   "metadata": {
    "collapsed": false
   },
   "id": "6cd51c6ac66adb68"
  },
  {
   "cell_type": "code",
   "outputs": [
    {
     "data": {
      "text/plain": "<Figure size 1000x600 with 1 Axes>",
      "image/png": "[encoded data removed]"
     },
     "metadata": {},
     "output_type": "display_data"
    }
   ],
   "source": [
    "import matplotlib.pyplot as plt\n",
    "import pandas as pd\n",
    "\n",
    "data = {\n",
    "    \"Dataset Size\": [2500, 5000, 10000, 15000, 20000, 30000, 40000, 50000],\n",
    "    \"k=3 Anonymity (s)\": [8, 16, 28, 49, 58, 99, 147, 208],\n",
    "    \"k-anonymity + l-diversity (l=2) (s)\": [5, 10, 32, 52, 64, 129, 224, 361],\n",
    "    \"k-anonymity + t-closeness (t=0.2) (s)\": [12, 26, 65, 110, 180, 428, 804, 1382],\n",
    "    \"cluster (s)\": [0.167, 0.23, 0.27, 0.305, 0.346, 0.52, 0.63, 0.8]\n",
    "}\n",
    "\n",
    "# Creating a new DataFrame from the data\n",
    "df = pd.DataFrame(data)\n",
    "\n",
    "# Plotting using the DataFrame\n",
    "plt.figure(figsize=(10, 6))\n",
    "plt.plot(df[\"Dataset Size\"], df[\"k=3 Anonymity (s)\"], marker='o', label='k=3 Anonymity')\n",
    "plt.plot(df[\"Dataset Size\"], df[\"k-anonymity + l-diversity (l=2) (s)\"], marker='o', label='k-Anonymity + l-Diversity (l=2)')\n",
    "plt.plot(df[\"Dataset Size\"], df[\"k-anonymity + t-closeness (t=0.2) (s)\"], marker='o', label='k-Anonymity + t-Closeness (t=0.2)')\n",
    "plt.plot(df[\"Dataset Size\"], df[\"cluster (s)\"], marker='o', label='Cluster')\n",
    "\n",
    "plt.title('Runtime Analysis for Different Privacy Models')\n",
    "plt.xlabel('Dataset Size')\n",
    "plt.ylabel('Runtime (seconds)')\n",
    "plt.legend()\n",
    "plt.grid(True)\n",
    "plt.show()"
   ],
   "metadata": {
    "collapsed": false,
    "ExecuteTime": {
     "end_time": "2024-01-15T09:28:08.200567Z",
     "start_time": "2024-01-15T09:28:08.034194Z"
    }
   },
   "id": "9128861fef89cfd0",
   "execution_count": 80
  },
  {
   "cell_type": "markdown",
   "source": [
    "#### Observations and Interpretation\n",
    "1. k=3 Anonymity: This algorithm shows a moderate increase in runtime with dataset size. Starting from 8 seconds for the smallest dataset, it gradually climbs to 208 seconds for the largest dataset. This trend suggests a linear or near-linear relationship between dataset size and processing time.\n",
    "2. k-Anonymity + l-Diversity (l=2): This algorithm starts with the lowest runtime at 5 seconds for the smallest dataset but eventually surpasses k=3 Anonymity, reaching 361 seconds for the largest dataset. The initial efficiency is notable, but it scales less effectively as the dataset size increases.\n",
    "3. k-Anonymity + t-Closeness (t=0.2): This algorithm demonstrates the highest runtime across all dataset sizes. Starting at 12 seconds, it shows a steep increase, reaching as high as 1382 seconds for the largest dataset. This indicates that while it may offer higher privacy standards, it does so at the cost of computational efficiency.\n",
    "4. Clustering: This algorithm consistently has the lowest runtime, varying from 0.167 seconds to only 0.8 seconds across all dataset sizes. Its performance is remarkably stable and efficient, indicating that it's the least computationally demanding among the compared models.\n",
    "\n",
    "In summary, while the Cluster method stands out for its efficiency, the k-Anonymity + t-Closeness (t=0.2) model is the most time-consuming. The k=3 Anonymity and k-Anonymity + l-Diversity (l=2) models offer a middle ground, balancing between efficiency and  privacy preservation effectiveness."
   ],
   "metadata": {
    "collapsed": false
   },
   "id": "8186f3be66445821"
  }
 ],
 "metadata": {
  "kernelspec": {
   "display_name": "Python 3",
   "language": "python",
   "name": "python3"
  },
  "language_info": {
   "codemirror_mode": {
    "name": "ipython",
    "version": 2
   },
   "file_extension": ".py",
   "mimetype": "text/x-python",
   "name": "python",
   "nbconvert_exporter": "python",
   "pygments_lexer": "ipython2",
   "version": "2.7.6"
  }
 },
 "nbformat": 4,
 "nbformat_minor": 5
}
